{
  "metadata": {
    "kernelspec": {
      "name": "python",
      "display_name": "Python (Pyodide)",
      "language": "python"
    },
    "language_info": {
      "codemirror_mode": {
        "name": "python",
        "version": 3
      },
      "file_extension": ".py",
      "mimetype": "text/x-python",
      "name": "python",
      "nbconvert_exporter": "python",
      "pygments_lexer": "ipython3",
      "version": "3.8"
    },
    "colab": {
      "provenance": [],
      "history_visible": true
    }
  },
  "nbformat_minor": 5,
  "nbformat": 4,
  "cells": [
    {
      "id": "fe55883a-6887-43dd-9498-5333a51799e2",
      "cell_type": "code",
      "source": [
        "import pandas as pd\n",
        "import numpy as np\n",
        "df = pd.read_csv('msi.tsv', sep='\\t')\n",
        "mss = df.to_numpy()\n",
        "\n",
        "input_vector = np.array([0, 0, 0.0004086451144, 0.00367780603, 0.03191972394, 0.1352615329, 0.0828641482, 0.06324918271, 0.09553214675, 0.1343080276, 0.171403923, 0.1162822376, 0.03132945877, 0.003859426081, 0.0004540501271, 0, 4.54E-05, 0, 0])\n",
        "\n",
        "\n",
        "avg = np.sum(mss, axis=1)\n",
        "avg = avg / 16\n",
        "score = np.sum(input_vector - avg)\n",
        "\n",
        "if score > 0.02:\n",
        "    print(\"нестабильный\")\n",
        "else:\n",
        "    print(\"стабильный\")\n",
        "\n",
        "\n"
      ],
      "metadata": {
        "trusted": true,
        "scrolled": true,
        "id": "fe55883a-6887-43dd-9498-5333a51799e2"
      },
      "outputs": [],
      "execution_count": null
    },
    {
      "id": "47176cba-b2d0-4466-91fe-b08b99f3201d",
      "cell_type": "code",
      "source": [
        "df = pd.read_csv('MSI_main.tsv',sep='\\t',header=None)\n",
        "data = df.to_numpy()\n",
        "dims = data.shape\n",
        "str_no = 1\n",
        "result_array = {}\n",
        "for i in range(0,dims[0],20):\n",
        "    mss = data[i:i+20,12:]\n",
        "    avg = np.sum(mss, axis=1)\n",
        "    avg = avg / 16\n",
        "    result = {}\n",
        "    for j in range(0,12):\n",
        "        msi_sample = data[i:i+20,j]\n",
        "        score = np.sum(msi_sample - avg)\n",
        "        if score > 0.02:\n",
        "            result[j] = 'нестабильный'\n",
        "        else:\n",
        "            result[j] = 'стабильный'\n",
        "    repeat_name = 'STR' + str(str_no)\n",
        "    str_no = str_no + 1\n",
        "    result_array[repeat_name] = result\n",
        "df_o = pd.DataFrame.from_dict(result_array)\n",
        "df_o.to_csv('zadacha1_4.tsv', sep=\"\\t\")\n",
        "\n",
        "\n"
      ],
      "metadata": {
        "trusted": true,
        "id": "47176cba-b2d0-4466-91fe-b08b99f3201d"
      },
      "outputs": [],
      "execution_count": null
    },
    {
      "id": "fee1f48a-4568-420d-9f65-816b3262d37e",
      "cell_type": "code",
      "source": [
        "df = pd.read_csv('MSI_main.tsv',sep='\\t',header=None)\n",
        "data = df.to_numpy()\n",
        "dims = data.shape\n",
        "str_no = 1\n",
        "result_array = {}\n",
        "for i in range(0,dims[0],20):\n",
        "    mss = data[i:i+20,12:]\n",
        "    avg = np.sum(mss, axis=1)\n",
        "    avg = avg / 16\n",
        "    result = {}\n",
        "    #print(sum(avg))\n",
        "    for j in range(0,12):\n",
        "        msi_sample = data[i:i+20,j]\n",
        "        score = np.sum(msi_sample) - np.sum(avg)\n",
        "        probability = round(score/np.sum(avg),5)\n",
        "        if score > 0.03:\n",
        "            result[j] = {'нестабильный', probability}\n",
        "        else:\n",
        "            result[j] = {'стабильный', probability}\n",
        "    repeat_name = 'STR' + str(str_no)\n",
        "    str_no = str_no + 1\n",
        "    result_array[repeat_name] = result\n",
        "df_o = pd.DataFrame.from_dict(result_array)\n",
        "df_o.to_csv('zadacha1_5.tsv', sep=\"\\t\")\n",
        "\n"
      ],
      "metadata": {
        "trusted": true,
        "id": "fee1f48a-4568-420d-9f65-816b3262d37e"
      },
      "outputs": [],
      "execution_count": null
    },
    {
      "id": "e8a8aab1-f5e2-4302-8570-da69a8762d8d",
      "cell_type": "code",
      "source": [],
      "metadata": {
        "trusted": true,
        "id": "e8a8aab1-f5e2-4302-8570-da69a8762d8d"
      },
      "outputs": [],
      "execution_count": null
    },
    {
      "id": "52c9bec4-967b-452c-af17-a1759741a735",
      "cell_type": "code",
      "source": [],
      "metadata": {
        "trusted": true,
        "id": "52c9bec4-967b-452c-af17-a1759741a735"
      },
      "outputs": [],
      "execution_count": null
    }
  ]
}